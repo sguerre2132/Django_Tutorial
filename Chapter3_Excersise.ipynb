{
 "cells": [
  {
   "cell_type": "markdown",
   "id": "0c2c9eb6-94f0-4ea6-877c-2c9f7e7f0d57",
   "metadata": {},
   "source": [
    "# Chapter 3: Module 1- Things To Do (Numbers and Types)\n"
   ]
  },
  {
   "cell_type": "markdown",
   "id": "a5b007f4-1ba5-4bff-b581-7909caa45375",
   "metadata": {},
   "source": [
    "## 3.1: How many seconds are in an hour?\n",
    "Multiply 60 seconds per minute by 60 minutes per hour."
   ]
  },
  {
   "cell_type": "code",
   "execution_count": 1,
   "id": "63ba6ac0-48e7-4395-92c5-ffa541eb628d",
   "metadata": {},
   "outputs": [
    {
     "data": {
      "text/plain": [
       "3600"
      ]
     },
     "execution_count": 1,
     "metadata": {},
     "output_type": "execute_result"
    }
   ],
   "source": [
    "60 * 60\n"
   ]
  },
  {
   "cell_type": "markdown",
   "id": "020c4786-621f-48d8-aa53-1d833b728c9c",
   "metadata": {},
   "source": [
    "## 3.2:Assign the result to a variable\n",
    "Store the result in \"seconds_per_hour\""
   ]
  },
  {
   "cell_type": "code",
   "execution_count": 4,
   "id": "03942d68-9898-4949-83ef-5294d4f195b9",
   "metadata": {},
   "outputs": [],
   "source": [
    "seconds_per_hour = 60 * 60\n"
   ]
  },
  {
   "cell_type": "markdown",
   "id": "d645af3f-8986-464b-a24f-f43c35f1b447",
   "metadata": {},
   "source": [
    "## 3.3:How many seconds are in a day?\n",
    "Multiply \"seconds_per_hour\" by 24 hours."
   ]
  },
  {
   "cell_type": "code",
   "execution_count": 5,
   "id": "7a38b4ed-7e42-4231-8c00-e75814fdafe3",
   "metadata": {},
   "outputs": [
    {
     "data": {
      "text/plain": [
       "86400"
      ]
     },
     "execution_count": 5,
     "metadata": {},
     "output_type": "execute_result"
    }
   ],
   "source": [
    "seconds_per_hour * 24"
   ]
  },
  {
   "cell_type": "markdown",
   "id": "1c254f6d-4deb-4004-b9a4-44b4ea34ae7c",
   "metadata": {},
   "source": [
    "## 3.4:Calculate seconds per day again\n",
    "Store the result in variable \"seconds_per_day\"."
   ]
  },
  {
   "cell_type": "code",
   "execution_count": 6,
   "id": "d6c987bc-b90d-4201-8693-53f8dd860416",
   "metadata": {},
   "outputs": [],
   "source": [
    "seconds_per_day = seconds_per_hour * 24"
   ]
  },
  {
   "cell_type": "markdown",
   "id": "945634df-290a-4b47-9ffb-0b0f3457b141",
   "metadata": {},
   "source": [
    "## Float division of \"seconds_per_day\" by \"seconds_per_hour\""
   ]
  },
  {
   "cell_type": "code",
   "execution_count": 7,
   "id": "6521f468-c917-49f7-b43d-d866b3bd5da2",
   "metadata": {},
   "outputs": [
    {
     "data": {
      "text/plain": [
       "24.0"
      ]
     },
     "execution_count": 7,
     "metadata": {},
     "output_type": "execute_result"
    }
   ],
   "source": [
    "seconds_per_day / seconds_per_hour"
   ]
  },
  {
   "cell_type": "markdown",
   "id": "786269c4-16b8-49a1-bb43-eefb95d49190",
   "metadata": {},
   "source": [
    "## 3.6:Integer division of \"seconds_per_day\" by \"seconds_per_hour\"\n"
   ]
  },
  {
   "cell_type": "code",
   "execution_count": 8,
   "id": "86b59d11-7fdd-4401-adef-8d02f3bf3693",
   "metadata": {},
   "outputs": [
    {
     "data": {
      "text/plain": [
       "24"
      ]
     },
     "execution_count": 8,
     "metadata": {},
     "output_type": "execute_result"
    }
   ],
   "source": [
    "seconds_per_day // seconds_per_hour"
   ]
  },
  {
   "cell_type": "markdown",
   "id": "92573ab4-256e-41f1-9f90-e7edf08729a5",
   "metadata": {},
   "source": [
    "The integer division result matched the floating-point result, except it removes the `.0`, confirming they are equivalent."
   ]
  }
 ],
 "metadata": {
  "kernelspec": {
   "display_name": "Python 3 (ipykernel)",
   "language": "python",
   "name": "python3"
  },
  "language_info": {
   "codemirror_mode": {
    "name": "ipython",
    "version": 3
   },
   "file_extension": ".py",
   "mimetype": "text/x-python",
   "name": "python",
   "nbconvert_exporter": "python",
   "pygments_lexer": "ipython3",
   "version": "3.12.7"
  }
 },
 "nbformat": 4,
 "nbformat_minor": 5
}
